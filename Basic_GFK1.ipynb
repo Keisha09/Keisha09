{
  "nbformat": 4,
  "nbformat_minor": 0,
  "metadata": {
    "colab": {
      "provenance": [],
      "authorship_tag": "ABX9TyNBd26D9g+1Qn41elZZMXgG",
      "include_colab_link": true
    },
    "kernelspec": {
      "name": "python3",
      "display_name": "Python 3"
    },
    "language_info": {
      "name": "python"
    }
  },
  "cells": [
    {
      "cell_type": "markdown",
      "metadata": {
        "id": "view-in-github",
        "colab_type": "text"
      },
      "source": [
        "<a href=\"https://colab.research.google.com/github/Keisha09/Keisha09/blob/main/Basic_GFK1.ipynb\" target=\"_parent\"><img src=\"https://colab.research.google.com/assets/colab-badge.svg\" alt=\"Open In Colab\"/></a>"
      ]
    },
    {
      "cell_type": "code",
      "execution_count": 1,
      "metadata": {
        "colab": {
          "base_uri": "https://localhost:8080/"
        },
        "id": "olVNFqXCK2Es",
        "outputId": "aeaaf372-383e-417e-afc6-ba25fefc1a00"
      },
      "outputs": [
        {
          "output_type": "stream",
          "name": "stdout",
          "text": [
            "Reading package lists... Done\n",
            "Building dependency tree... Done\n",
            "Reading state information... Done\n",
            "git is already the newest version (1:2.34.1-1ubuntu1.11).\n",
            "0 upgraded, 0 newly installed, 0 to remove and 49 not upgraded.\n"
          ]
        }
      ],
      "source": [
        "!apt-get install git"
      ]
    },
    {
      "cell_type": "code",
      "source": [
        "# @title Default title text\n",
        "!git clone https://github.com/Keisha09/google_collab_1.git"
      ],
      "metadata": {
        "colab": {
          "base_uri": "https://localhost:8080/"
        },
        "id": "7EDmI5xeK3_4",
        "outputId": "18f5c7ca-07d1-4899-dc55-22ed2e799c22"
      },
      "execution_count": 2,
      "outputs": [
        {
          "output_type": "stream",
          "name": "stdout",
          "text": [
            "Cloning into 'google_collab_1'...\n",
            "warning: You appear to have cloned an empty repository.\n"
          ]
        }
      ]
    },
    {
      "cell_type": "markdown",
      "source": [
        "###Array Search\n",
        "Given an array, arr of n integers, and an integer element x, find whether element x is present in the array. Return the index of the first occurrence of x in the array, or -1 if it doesn't exist.\n",
        "\n",
        "Examples:\n",
        "\n",
        "Input: arr[] = [1, 2, 3, 4], x = 3\n",
        "Output: 2\n",
        "Explanation: There is one test case with array as [1, 2, 3 4] and element to be searched as 3. Since 3 is present at index 2, the output is 2.\n",
        "Input: arr[] = [10, 8, 30, 4, 5], x = 5\n",
        "Output: 4\n",
        "Explanation: For array [1, 2, 3, 4, 5], the element to be searched is 5 and it is at index 4. So, the output is 4."
      ],
      "metadata": {
        "id": "4TlcfOJFMjK2"
      }
    },
    {
      "cell_type": "code",
      "source": [
        "  def search(self,arr, x):\n",
        "        #Your code here\n",
        "       position=[ index for index in range(len(arr)) if x==arr[index]]\n",
        "       result=position[0] if position else -1\n",
        "       return result"
      ],
      "metadata": {
        "id": "1CSPixWFMRE6"
      },
      "execution_count": 3,
      "outputs": []
    },
    {
      "cell_type": "code",
      "source": [
        "%cd google_collab_1"
      ],
      "metadata": {
        "colab": {
          "base_uri": "https://localhost:8080/"
        },
        "id": "KzOUwMKZMR09",
        "outputId": "04fa663b-8b77-4770-8a4e-907e9f779de4"
      },
      "execution_count": 4,
      "outputs": [
        {
          "output_type": "stream",
          "name": "stdout",
          "text": [
            "/content/google_collab_1\n"
          ]
        }
      ]
    },
    {
      "cell_type": "code",
      "source": [
        "!git add ."
      ],
      "metadata": {
        "id": "ucR8kylyNTT0"
      },
      "execution_count": 6,
      "outputs": []
    },
    {
      "cell_type": "code",
      "source": [
        "!git commit -m \"First program\""
      ],
      "metadata": {
        "colab": {
          "base_uri": "https://localhost:8080/"
        },
        "id": "h05KK0r4eOYQ",
        "outputId": "947249d9-d996-4d50-a218-c1af5124707e"
      },
      "execution_count": 13,
      "outputs": [
        {
          "output_type": "stream",
          "name": "stdout",
          "text": [
            "On branch main\n",
            "\n",
            "Initial commit\n",
            "\n",
            "nothing to commit (create/copy files and use \"git add\" to track)\n"
          ]
        }
      ]
    },
    {
      "cell_type": "code",
      "source": [
        "!git config --global user.email \"keeshana.n@gmail.com\"\n",
        "!git config --global user.name \"keisha\""
      ],
      "metadata": {
        "id": "bofL-dC_ed10"
      },
      "execution_count": 10,
      "outputs": []
    },
    {
      "cell_type": "code",
      "source": [
        "print(\"Hello\")"
      ],
      "metadata": {
        "colab": {
          "base_uri": "https://localhost:8080/"
        },
        "id": "MFvCdg2nesTg",
        "outputId": "730e450a-f279-48c5-d03e-9f116514104b"
      },
      "execution_count": 12,
      "outputs": [
        {
          "output_type": "stream",
          "name": "stdout",
          "text": [
            "Hello\n"
          ]
        }
      ]
    },
    {
      "cell_type": "code",
      "source": [],
      "metadata": {
        "id": "O5vl-qCpfXIt"
      },
      "execution_count": null,
      "outputs": []
    }
  ]
}