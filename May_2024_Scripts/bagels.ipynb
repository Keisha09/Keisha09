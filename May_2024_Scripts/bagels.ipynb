{
 "cells": [
  {
   "cell_type": "code",
   "execution_count": 1,
   "metadata": {},
   "outputs": [],
   "source": [
    "# Creating the secret numbers\n",
    "def getSecretNum():\n",
    "    import random\n",
    "    numbers=list('0123456789')\n",
    "    random.shuffle(numbers)\n",
    "    secretNum=''\n",
    "    for i in range(Num_Digits):\n",
    "        secretNum=secretNum+str(numbers[i])\n",
    "    return secretNum\n",
    "\n"
   ]
  },
  {
   "cell_type": "code",
   "execution_count": 2,
   "metadata": {},
   "outputs": [],
   "source": [
    "def getClues(guess, secretNum):\n",
    "    if guess==secretNum:\n",
    "        return(\"You got it!\")\n",
    "    clues=[]\n",
    "    for i in range (len(guess)):\n",
    "        if guess[i]==secretNum[i]:\n",
    "            clues.append('Fermi! number & position correct')\n",
    "        elif guess[i] in secretNum:\n",
    "            clues.append('Pico! number correct position not correct')\n",
    "    if len(clues)==0:\n",
    "        return \"Bagels\"\n",
    "    else:\n",
    "        return ' '.join(clues)\n",
    "\n",
    "\n"
   ]
  },
  {
   "cell_type": "code",
   "execution_count": 3,
   "metadata": {},
   "outputs": [],
   "source": [
    "import random\n",
    "Num_Digits=3\n",
    "Max_guesses=10\n",
    "def main():\n",
    "    while True:\n",
    "        secretNum=getSecretNum()\n",
    "        numGuesses=1\n",
    "        while Max_guesses>=numGuesses:\n",
    "            guess=input('> ')\n",
    "            clues=getClues(guess,secretNum)\n",
    "            print(clues)\n",
    "            numGuesses+=1\n",
    "            if guess==secretNum:\n",
    "                print(\"You got it\")\n",
    "            if numGuesses>=Max_guesses:\n",
    "                print(\"You ran out of guesses\")\n",
    "                print(\"The answer was {}\".format(secretNum))\n",
    "                print(\"Do you want to play again? (yes or no)\")\n",
    "        if not input('> ').lower().startswith('y'):\n",
    "            break\n",
    "    print(\"Thanks for playing\")\n",
    "            \n",
    "\n"
   ]
  },
  {
   "cell_type": "code",
   "execution_count": 4,
   "metadata": {},
   "outputs": [
    {
     "name": "stdout",
     "output_type": "stream",
     "text": [
      "Fermi! number & position correct\n",
      "Bagels\n",
      "Fermi! number & position correct\n",
      "Bagels\n",
      "Bagels\n",
      "Bagels\n",
      "Fermi! number & position correct Pico! number correct position not correct\n",
      "Fermi! number & position correct Pico! number correct position not correct\n",
      "Fermi! number & position correct Fermi! number & position correct\n",
      "You ran out of guesses\n",
      "The answer was 105\n",
      "Do you want to play again? (yes or no)\n",
      "Bagels\n",
      "You ran out of guesses\n",
      "The answer was 105\n",
      "Do you want to play again? (yes or no)\n",
      "Thanks for playing\n"
     ]
    }
   ],
   "source": [
    "if __name__=='__main__':\n",
    "    main()"
   ]
  },
  {
   "cell_type": "code",
   "execution_count": null,
   "metadata": {},
   "outputs": [],
   "source": []
  }
 ],
 "metadata": {
  "kernelspec": {
   "display_name": "Python 3",
   "language": "python",
   "name": "python3"
  },
  "language_info": {
   "codemirror_mode": {
    "name": "ipython",
    "version": 3
   },
   "file_extension": ".py",
   "mimetype": "text/x-python",
   "name": "python",
   "nbconvert_exporter": "python",
   "pygments_lexer": "ipython3",
   "version": "3.12.3"
  }
 },
 "nbformat": 4,
 "nbformat_minor": 2
}
